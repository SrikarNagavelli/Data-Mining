{
  "nbformat": 4,
  "nbformat_minor": 0,
  "metadata": {
    "colab": {
      "provenance": [],
      "authorship_tag": "ABX9TyNN6H+d7hIupY7g17nD89mA",
      "include_colab_link": true
    },
    "kernelspec": {
      "name": "python3",
      "display_name": "Python 3"
    },
    "language_info": {
      "name": "python"
    }
  },
  "cells": [
    {
      "cell_type": "markdown",
      "metadata": {
        "id": "view-in-github",
        "colab_type": "text"
      },
      "source": [
        "<a href=\"https://colab.research.google.com/github/SrikarNagavelli/Data-Mining/blob/main/DM_ASS1.ipynb\" target=\"_parent\"><img src=\"https://colab.research.google.com/assets/colab-badge.svg\" alt=\"Open In Colab\"/></a>"
      ]
    },
    {
      "cell_type": "code",
      "execution_count": null,
      "metadata": {
        "colab": {
          "base_uri": "https://localhost:8080/"
        },
        "id": "6labqCfqyVuN",
        "outputId": "c37954d3-a358-4a3a-b830-bdbcc9d9b146"
      },
      "outputs": [
        {
          "output_type": "stream",
          "name": "stdout",
          "text": [
            "      id               name               nationality                 city  \\\n",
            "0      0          Kiana Lor                     China               Suzhou   \n",
            "1      1     Joshua Lonaker  United States of America        Santa Clarita   \n",
            "2      2      Dakota Blanco  United States of America              Oakland   \n",
            "3      3    Natasha Yarusso  United States of America        Castro Valley   \n",
            "4      4     Brooke Cazares                    Brazil  São José dos Campos   \n",
            "..   ...                ...                       ...                  ...   \n",
            "302  302        Austin Haas  United States of America             Columbus   \n",
            "303  303    Madison Fithian  United States of America          Los Angeles   \n",
            "304  304  Zachary Mulvahill  United States of America          Los Angeles   \n",
            "305  305   Eliana Michelsen  United States of America              Oakland   \n",
            "306  306    Dane Whittemore                    Canada              Toronto   \n",
            "\n",
            "     latitude  longitude gender  age  english.grade  math.grade  \\\n",
            "0       31.31     120.62      F   22            3.5         3.7   \n",
            "1       34.39    -118.54      M   22            2.9         3.2   \n",
            "2       37.80    -122.27      F   22            3.9         3.8   \n",
            "3       37.69    -122.09      F   20            3.3         2.8   \n",
            "4      -23.18     -45.88      F   21            3.7         2.6   \n",
            "..        ...        ...    ...  ...            ...         ...   \n",
            "302     39.96     -83.00      M   20            3.6         3.7   \n",
            "303     34.05    -118.24      F   20            3.6         3.9   \n",
            "304     34.05    -118.24      M   20            3.2         3.4   \n",
            "305     37.80    -122.27      F   23            3.0         2.8   \n",
            "306     43.67     -79.42      M   21            3.8         3.2   \n",
            "\n",
            "     sciences.grade  language.grade  portfolio.rating  coverletter.rating  \\\n",
            "0               3.1             1.0                 4                 4.0   \n",
            "1               3.6             5.0                 5                 4.0   \n",
            "2               3.2             5.0                 3                 3.0   \n",
            "3               NaN             5.0                 5                 2.0   \n",
            "4               3.4             1.0                 4                 4.0   \n",
            "..              ...             ...               ...                 ...   \n",
            "302             3.1             5.0                 4                 5.0   \n",
            "303             4.0             5.0                 5                 5.0   \n",
            "304             3.9             5.0                 5                 5.0   \n",
            "305             2.9             5.0                 4                 4.0   \n",
            "306             4.0             5.0                 5                 4.0   \n",
            "\n",
            "     refletter.rating  \n",
            "0                   4  \n",
            "1                   5  \n",
            "2                   4  \n",
            "3                   4  \n",
            "4                   5  \n",
            "..                ...  \n",
            "302                 5  \n",
            "303                 3  \n",
            "304                 3  \n",
            "305                 5  \n",
            "306                 5  \n",
            "\n",
            "[307 rows x 15 columns]\n"
          ]
        }
      ],
      "source": [
        "import pandas as pd\n",
        "df=pd.read_csv(\"/content/student-dataset.csv\")\n",
        "print(df)"
      ]
    },
    {
      "cell_type": "code",
      "source": [
        "grade=df[\"sciences.grade\"].median()\n",
        "df['grade']=df['sciences.grade'].fillna(grade)\n",
        "print(\"median :\",grade)\n",
        "print(df.head())"
      ],
      "metadata": {
        "colab": {
          "base_uri": "https://localhost:8080/"
        },
        "id": "xOXARnh681PV",
        "outputId": "79de84f4-d0df-4c5c-a72e-0be146310a71"
      },
      "execution_count": null,
      "outputs": [
        {
          "output_type": "stream",
          "name": "stdout",
          "text": [
            "median : 3.6\n",
            "   id             name               nationality                 city  \\\n",
            "0   0        Kiana Lor                     China               Suzhou   \n",
            "1   1   Joshua Lonaker  United States of America        Santa Clarita   \n",
            "2   2    Dakota Blanco  United States of America              Oakland   \n",
            "3   3  Natasha Yarusso  United States of America        Castro Valley   \n",
            "4   4   Brooke Cazares                    Brazil  São José dos Campos   \n",
            "\n",
            "   latitude  longitude gender  age  english.grade  math.grade  sciences.grade  \\\n",
            "0     31.31     120.62      F   22            3.5         3.7             3.1   \n",
            "1     34.39    -118.54      M   22            2.9         3.2             3.6   \n",
            "2     37.80    -122.27      F   22            3.9         3.8             3.2   \n",
            "3     37.69    -122.09      F   20            3.3         2.8             NaN   \n",
            "4    -23.18     -45.88      F   21            3.7         2.6             3.4   \n",
            "\n",
            "   language.grade  portfolio.rating  coverletter.rating  refletter.rating  \\\n",
            "0             1.0                 4                 4.0                 4   \n",
            "1             5.0                 5                 4.0                 5   \n",
            "2             5.0                 3                 3.0                 4   \n",
            "3             5.0                 5                 2.0                 4   \n",
            "4             1.0                 4                 4.0                 5   \n",
            "\n",
            "   grade  \n",
            "0    3.1  \n",
            "1    3.6  \n",
            "2    3.2  \n",
            "3    3.6  \n",
            "4    3.4  \n"
          ]
        }
      ]
    },
    {
      "cell_type": "code",
      "source": [
        "scaler = MinMaxScaler()\n",
        "score_columns = [\"math.grade\", \"sciences.grade\", \"english.grade\"]\n",
        "df[score_columns] = scaler.fit_transform(df[score_columns])\n",
        "print(\"\\nAfter Min-Max Scaling:\\n\", df.head())\n",
        "processed_file_path = \"/content/student-dataset.csv\"\n",
        "df.to_csv(processed_file_path, index=False)\n",
        "print(\"\\nProcessing complete. Processed file saved at:\", processed_file_path)\n"
      ],
      "metadata": {
        "colab": {
          "base_uri": "https://localhost:8080/"
        },
        "id": "dPD7dj1cCx5J",
        "outputId": "b2c44db5-59c7-4e4f-c48a-ab2be1a2ac01"
      },
      "execution_count": null,
      "outputs": [
        {
          "output_type": "stream",
          "name": "stdout",
          "text": [
            "\n",
            "After Min-Max Scaling:\n",
            "    id             name               nationality                 city  \\\n",
            "0   0        Kiana Lor                     China               Suzhou   \n",
            "1   1   Joshua Lonaker  United States of America        Santa Clarita   \n",
            "2   2    Dakota Blanco  United States of America              Oakland   \n",
            "3   3  Natasha Yarusso  United States of America        Castro Valley   \n",
            "4   4   Brooke Cazares                    Brazil  São José dos Campos   \n",
            "\n",
            "   latitude  longitude gender  age  english.grade  math.grade  sciences.grade  \\\n",
            "0     31.31     120.62      F   22           0.80    0.842105        0.653846   \n",
            "1     34.39    -118.54      M   22           0.56    0.578947        0.846154   \n",
            "2     37.80    -122.27      F   22           0.96    0.894737        0.692308   \n",
            "3     37.69    -122.09      F   20           0.72    0.368421        0.846154   \n",
            "4    -23.18     -45.88      F   21           0.88    0.263158        0.769231   \n",
            "\n",
            "   language.grade  portfolio.rating  coverletter.rating  refletter.rating  \n",
            "0             1.0                 4                 4.0                 4  \n",
            "1             5.0                 5                 4.0                 5  \n",
            "2             5.0                 3                 3.0                 4  \n",
            "3             5.0                 5                 2.0                 4  \n",
            "4             1.0                 4                 4.0                 5  \n",
            "\n",
            "Processing complete. Processed file saved at: /content/student-dataset.csv\n"
          ]
        }
      ]
    }
  ]
}